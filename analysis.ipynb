{
 "metadata": {
  "language_info": {
   "codemirror_mode": {
    "name": "ipython",
    "version": 3
   },
   "file_extension": ".py",
   "mimetype": "text/x-python",
   "name": "python",
   "nbconvert_exporter": "python",
   "pygments_lexer": "ipython3",
   "version": "3.8.5-final"
  },
  "orig_nbformat": 2,
  "kernelspec": {
   "name": "python385jvsc74a57bd0db1e82c7aa95844e45fbbbbcd794a7c1e0efcba29fed4bfa108b76bffa77ce80",
   "display_name": "Python 3.8.5 64-bit ('3.8.5')"
  }
 },
 "nbformat": 4,
 "nbformat_minor": 2,
 "cells": [
  {
   "cell_type": "code",
   "execution_count": null,
   "metadata": {},
   "outputs": [],
   "source": [
    "import seaborn as sns\n",
    "import pandas as pd\n",
    "import numpy as np\n",
    "import matplotlib.pyplot as plt\n",
    "from scipy import stats"
   ]
  },
  {
   "cell_type": "code",
   "execution_count": null,
   "metadata": {},
   "outputs": [],
   "source": [
    "columns = ['label', 'x1', 'x2', 'x3', 'x4', 'x5', 'x6', 'x7', 'x8', 'x9', 'x10', 'x11', 'y1', 'y2', 'y3', 'y4', 'y5', 'y6', 'y7', 'y8', 'y9', 'y10', 'y11']\n",
    "train_data = pd.read_csv(\"COMP30027_2021_assignment1_data/train.csv\", names=columns, na_values=9999)\n",
    "test_data = pd.read_csv(\"COMP30027_2021_assignment1_data/test.csv\", names=columns, na_values=9999)"
   ]
  },
  {
   "source": [
    "# Train Data Analysis\n",
    "- Basic statistics\n",
    "- Number of NaN value\n",
    "- Skewness\n",
    "- Kurtosis"
   ],
   "cell_type": "markdown",
   "metadata": {}
  },
  {
   "cell_type": "code",
   "execution_count": null,
   "metadata": {},
   "outputs": [],
   "source": [
    "train_data.describe()\n",
    "# train_data.info()"
   ]
  },
  {
   "cell_type": "code",
   "execution_count": null,
   "metadata": {},
   "outputs": [],
   "source": [
    "for col_num, col_x in enumerate(train_data.columns[1:12]):\n",
    "    print(\"number of NaN value of point {} is {} and non Nan is {}\".format(col_num + 1, train_data[col_x].isna().sum(), train_data[col_x].count()))"
   ]
  },
  {
   "cell_type": "code",
   "execution_count": null,
   "metadata": {},
   "outputs": [],
   "source": [
    "for col_x, col_y in zip(train_data.columns[1:12], train_data.columns[12:]):\n",
    "    print(\"Skewness of ({}, {}) is {:f} and {:f} \".format(col_x, col_y, train_data[col_x].skew(), train_data[col_y].skew()))"
   ]
  },
  {
   "cell_type": "code",
   "execution_count": null,
   "metadata": {},
   "outputs": [],
   "source": [
    "for col_x, col_y in zip(train_data.columns[1:12], train_data.columns[12:]):\n",
    "    print(\"Kurtosis of ({}, {}) is {:f} and {:f} \".format(col_x, col_y, train_data[col_x].kurt(), train_data[col_y].kurt()))"
   ]
  },
  {
   "source": [
    "# Detailed Analysis of each pose"
   ],
   "cell_type": "markdown",
   "metadata": {}
  },
  {
   "cell_type": "code",
   "execution_count": null,
   "metadata": {},
   "outputs": [],
   "source": [
    "bridge = train_data.groupby(\"label\").get_group(\"bridge\")\n",
    "\n",
    "# bridge[np.abs(stats.zscore(bridge.iloc[:, 1:], axis=0, nan_policy='omit') < 3).all(axis=1)]\n",
    "bridge.describe()"
   ]
  },
  {
   "cell_type": "code",
   "execution_count": null,
   "metadata": {},
   "outputs": [],
   "source": [
    "for col_num, col_x in enumerate(bridge.columns[1:12]):\n",
    "    print(\"number of NaN value of point {} is {} and non Nan is {}\".format(col_num + 1, bridge[col_x].isna().sum(), bridge[col_x].count()))"
   ]
  },
  {
   "cell_type": "code",
   "execution_count": null,
   "metadata": {},
   "outputs": [],
   "source": [
    "fig, ax = plt.subplots()\n",
    "for col_x, col_y, txt in zip(bridge.columns[1:12], bridge.columns[12:], [i for i in range(1, 12)]):\n",
    "    x=bridge[col_x].mean()\n",
    "    y=bridge[col_y].mean()\n",
    "    ax.scatter(x=x, y=y)\n",
    "    ax.annotate(txt, (x, y))\n",
    "plt.title(\"Bridge mean plot\")"
   ]
  },
  {
   "cell_type": "code",
   "execution_count": null,
   "metadata": {},
   "outputs": [],
   "source": [
    "fig, axs = plt.subplots(11, 3, figsize=(20, 100))\n",
    "\n",
    "for col_x, col_y, ax in zip(train_data.columns[1:12], train_data.columns[12:], axs):\n",
    "    ax[0].boxplot(x=bridge[col_x].dropna(), showmeans=True, meanline=True)\n",
    "    ax[0].set_title(\"{} Boxplot\".format(col_x))\n",
    "    ax[1].boxplot(x=bridge[col_y].dropna(), showmeans=True, meanline=True)\n",
    "    ax[1].set_title(\"{} Boxplot\".format(col_y))\n",
    "    ax[2].scatter(x=bridge[col_x], y=bridge[col_y])\n",
    "    ax[2].set_title(\"({}, {}) Scatter Plot\".format(col_x, col_y))\n"
   ]
  },
  {
   "cell_type": "code",
   "execution_count": null,
   "metadata": {},
   "outputs": [],
   "source": [
    "plt.figure(figsize=[16,12])\n",
    "plt.subplot(231)\n",
    "plt.scatter(x=bridge.x1, y=bridge.y1, c=\"blue\")\n",
    "plt.scatter(x=bridge.x2, y=bridge.y2, c=\"green\")\n",
    "plt.scatter(x=bridge.x7, y=bridge.y7, c=\"purple\")\n",
    "\n",
    "\n",
    "plt.title(\"x1 Boxplot\")\n"
   ]
  },
  {
   "cell_type": "code",
   "execution_count": null,
   "metadata": {},
   "outputs": [],
   "source": [
    "plt.figure(figsize=[16,12])\n",
    "plt.subplot(231)\n",
    "plt.scatter(x=train_data.x1, y=train_data.y1)\n",
    "plt.title(\"x1 Boxplot\")"
   ]
  },
  {
   "cell_type": "code",
   "execution_count": null,
   "metadata": {},
   "outputs": [],
   "source": []
  },
  {
   "cell_type": "code",
   "execution_count": null,
   "metadata": {},
   "outputs": [],
   "source": []
  }
 ]
}